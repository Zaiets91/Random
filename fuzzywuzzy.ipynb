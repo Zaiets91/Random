{
 "cells": [
  {
   "cell_type": "code",
   "execution_count": 32,
   "metadata": {
    "collapsed": false
   },
   "outputs": [],
   "source": [
    "import pandas as pd\n",
    "import numpy as np\n",
    "from fuzzywuzzy import fuzz\n",
    "from fuzzywuzzy import process"
   ]
  },
  {
   "cell_type": "code",
   "execution_count": 343,
   "metadata": {
    "collapsed": false
   },
   "outputs": [],
   "source": [
    "c = 0\n",
    "def fuzzyCheck(row):\n",
    "    global c\n",
    "    text = row[0]\n",
    "    if pd.isnull(text):\n",
    "        return [0 for _ in range(len(df2))]\n",
    "    if c%100 == 0:\n",
    "        print c\n",
    "    c = c + 1\n",
    "    return [fuzz.ratio(text, row['full_name']) if not pd.isnull(row['full_name']) else 0 for index, row in df2.iterrows()]\n",
    "def getMeanValue(row):\n",
    "    return np.mean(np.array([x for x in row]), axis=0).tolist()\n",
    "def getMaxIndexes(row):\n",
    "    # даже не спрашивай, я хз почему оно не хочет отдавать массивы -_-\n",
    "    return ' '.join([str(x) for x in np.argwhere(row[0] == np.amax(row[0]))])\n",
    "def getMaxValues(row):\n",
    "    sorting = np.sort(row[0])\n",
    "    # даже не спрашивай, я хз почему оно не хочет отдавать массивы -_-\n",
    "    return ' '.join([str(x) for x in sorting[-2::]])"
   ]
  },
  {
   "cell_type": "markdown",
   "metadata": {},
   "source": [
    "## Using fuzzywuzzy to get ratings (0-100); eta for 1000x1000 - 5min 3s"
   ]
  },
  {
   "cell_type": "code",
   "execution_count": 54,
   "metadata": {
    "collapsed": false
   },
   "outputs": [
    {
     "name": "stdout",
     "output_type": "stream",
     "text": [
      "0\n",
      "100\n",
      "200\n",
      "300\n",
      "400\n",
      "500\n",
      "600\n",
      "700\n",
      "800\n",
      "900\n",
      "Wall time: 5min 3s\n"
     ]
    },
    {
     "data": {
      "text/html": [
       "<div>\n",
       "<table border=\"1\" class=\"dataframe\">\n",
       "  <thead>\n",
       "    <tr style=\"text-align: right;\">\n",
       "      <th></th>\n",
       "      <th>first_name</th>\n",
       "      <th>last_name</th>\n",
       "      <th>email</th>\n",
       "      <th>Phone</th>\n",
       "      <th>Adress</th>\n",
       "      <th>full_name</th>\n",
       "      <th>check_name</th>\n",
       "    </tr>\n",
       "  </thead>\n",
       "  <tbody>\n",
       "    <tr>\n",
       "      <th>0</th>\n",
       "      <td>Sarah</td>\n",
       "      <td>Reyes</td>\n",
       "      <td>sreyes0@ed.gov</td>\n",
       "      <td>86-(204)143-1479</td>\n",
       "      <td>7 Darwin Park</td>\n",
       "      <td>Sarah Reyes</td>\n",
       "      <td>[17, 10, 27, 27, 18, 31, 17, 29, 23, 17, 20, 1...</td>\n",
       "    </tr>\n",
       "  </tbody>\n",
       "</table>\n",
       "</div>"
      ],
      "text/plain": [
       "  first_name last_name           email             Phone         Adress  \\\n",
       "0      Sarah     Reyes  sreyes0@ed.gov  86-(204)143-1479  7 Darwin Park   \n",
       "\n",
       "     full_name                                         check_name  \n",
       "0  Sarah Reyes  [17, 10, 27, 27, 18, 31, 17, 29, 23, 17, 20, 1...  "
      ]
     },
     "execution_count": 54,
     "metadata": {},
     "output_type": "execute_result"
    }
   ],
   "source": [
    "%time df1['check_name'] = df1[['full_name']].apply(fuzzyCheck, axis=1)"
   ]
  },
  {
   "cell_type": "code",
   "execution_count": 130,
   "metadata": {
    "collapsed": false
   },
   "outputs": [
    {
     "data": {
      "text/html": [
       "<div>\n",
       "<table border=\"1\" class=\"dataframe\">\n",
       "  <thead>\n",
       "    <tr style=\"text-align: right;\">\n",
       "      <th></th>\n",
       "      <th>first_name</th>\n",
       "      <th>last_name</th>\n",
       "      <th>email</th>\n",
       "      <th>Phone</th>\n",
       "      <th>Adress</th>\n",
       "      <th>full_name</th>\n",
       "      <th>check_name</th>\n",
       "      <th>check_name2</th>\n",
       "      <th>check_level2</th>\n",
       "      <th>Mean_Rate</th>\n",
       "    </tr>\n",
       "  </thead>\n",
       "  <tbody>\n",
       "    <tr>\n",
       "      <th>0</th>\n",
       "      <td>Sarah</td>\n",
       "      <td>Reyes</td>\n",
       "      <td>sreyes0@ed.gov</td>\n",
       "      <td>86-(204)143-1479</td>\n",
       "      <td>7 Darwin Park</td>\n",
       "      <td>Sarah Reyes</td>\n",
       "      <td>[0, 0, 7, 7, 7, 7, 7, 7, 8, 8, 8, 8, 8, 8, 8, ...</td>\n",
       "      <td>19</td>\n",
       "      <td>[10, 10, 10, 10, 10, 10, 10, 10, 10, 10, 10, 1...</td>\n",
       "      <td>[5.0, 5.0, 8.5, 8.5, 8.5, 8.5, 8.5, 8.5, 9.0, ...</td>\n",
       "    </tr>\n",
       "    <tr>\n",
       "      <th>1</th>\n",
       "      <td>Catherine</td>\n",
       "      <td>Garrett</td>\n",
       "      <td>cgarrett1@google.com.br</td>\n",
       "      <td>48-(485)685-3252</td>\n",
       "      <td>53868 Surrey Road</td>\n",
       "      <td>Catherine Garrett</td>\n",
       "      <td>[14, 8, 14, 43, 7, 19, 28, 30, 44, 14, 23, 22,...</td>\n",
       "      <td>44</td>\n",
       "      <td>[10, 10, 10, 10, 10, 10, 10, 10, 10, 10, 10, 1...</td>\n",
       "      <td>[12.0, 9.0, 12.0, 26.5, 8.5, 14.5, 19.0, 20.0,...</td>\n",
       "    </tr>\n",
       "  </tbody>\n",
       "</table>\n",
       "</div>"
      ],
      "text/plain": [
       "  first_name last_name                    email             Phone  \\\n",
       "0      Sarah     Reyes           sreyes0@ed.gov  86-(204)143-1479   \n",
       "1  Catherine   Garrett  cgarrett1@google.com.br  48-(485)685-3252   \n",
       "\n",
       "              Adress          full_name  \\\n",
       "0      7 Darwin Park        Sarah Reyes   \n",
       "1  53868 Surrey Road  Catherine Garrett   \n",
       "\n",
       "                                          check_name  check_name2  \\\n",
       "0  [0, 0, 7, 7, 7, 7, 7, 7, 8, 8, 8, 8, 8, 8, 8, ...           19   \n",
       "1  [14, 8, 14, 43, 7, 19, 28, 30, 44, 14, 23, 22,...           44   \n",
       "\n",
       "                                        check_level2  \\\n",
       "0  [10, 10, 10, 10, 10, 10, 10, 10, 10, 10, 10, 1...   \n",
       "1  [10, 10, 10, 10, 10, 10, 10, 10, 10, 10, 10, 1...   \n",
       "\n",
       "                                           Mean_Rate  \n",
       "0  [5.0, 5.0, 8.5, 8.5, 8.5, 8.5, 8.5, 8.5, 9.0, ...  \n",
       "1  [12.0, 9.0, 12.0, 26.5, 8.5, 14.5, 19.0, 20.0,...  "
      ]
     },
     "execution_count": 130,
     "metadata": {},
     "output_type": "execute_result"
    }
   ],
   "source": [
    "# didn't want to waste a time for processing so i'm using just a random variables\n",
    "df1['check_level2'] = ''\n",
    "df1['check_level2'] = df1['check_level2'].apply(lambda x: [10 for _ in range(len(df2))])"
   ]
  },
  {
   "cell_type": "code",
   "execution_count": 161,
   "metadata": {
    "collapsed": false
   },
   "outputs": [],
   "source": [
    "# calculating mean value\n",
    "df1['Mean_Rate'] = df1[['check_name', 'check_level2']].apply(getMeanValue, axis=1)"
   ]
  },
  {
   "cell_type": "markdown",
   "metadata": {},
   "source": [
    "## Getting results"
   ]
  },
  {
   "cell_type": "code",
   "execution_count": 344,
   "metadata": {
    "collapsed": false
   },
   "outputs": [],
   "source": [
    "# max value indexes\n",
    "df1['Best_Match_Index'] = df1[['Mean_Rate']].apply(getMaxIndexes, axis=1).apply(lambda x: x.split()) #да, как-то не очень\n",
    "# max value - спецом добавил таким способом, чтобы в случае чего можно было не только топовое значение получать.\n",
    "df1['Best_Match_Value'] = df1[['Mean_Rate']].apply(getMaxValues, axis=1).apply(lambda x: x.split())"
   ]
  },
  {
   "cell_type": "code",
   "execution_count": 145,
   "metadata": {
    "collapsed": true
   },
   "outputs": [],
   "source": [
    "a = [[10, 50, 100], [0, 0, 0], [0, 0, 0]]"
   ]
  },
  {
   "cell_type": "code",
   "execution_count": 146,
   "metadata": {
    "collapsed": false
   },
   "outputs": [
    {
     "data": {
      "text/plain": [
       "array([  3.33333333,  16.66666667,  33.33333333])"
      ]
     },
     "execution_count": 146,
     "metadata": {},
     "output_type": "execute_result"
    }
   ],
   "source": [
    "c = np.array([i for i in a])\n",
    "np.mean(c, axis=0)"
   ]
  },
  {
   "cell_type": "code",
   "execution_count": 94,
   "metadata": {
    "collapsed": false
   },
   "outputs": [
    {
     "data": {
      "text/plain": [
       "80"
      ]
     },
     "execution_count": 94,
     "metadata": {},
     "output_type": "execute_result"
    }
   ],
   "source": [
    "df1.iloc[0]['check_name'][856]"
   ]
  },
  {
   "cell_type": "code",
   "execution_count": 47,
   "metadata": {
    "collapsed": true
   },
   "outputs": [],
   "source": [
    "df1 = pd.read_excel('set1.xlsx')\n",
    "df2 = pd.read_excel('set2.xlsx')"
   ]
  },
  {
   "cell_type": "code",
   "execution_count": 48,
   "metadata": {
    "collapsed": false
   },
   "outputs": [],
   "source": [
    "df1['full_name'] = df1['first_name'] + ' ' + df1['last_name']\n",
    "df2['full_name'] = df2['first_name'] + ' ' + df2['last_name']"
   ]
  },
  {
   "cell_type": "code",
   "execution_count": 37,
   "metadata": {
    "collapsed": false
   },
   "outputs": [
    {
     "data": {
      "text/html": [
       "<div>\n",
       "<table border=\"1\" class=\"dataframe\">\n",
       "  <thead>\n",
       "    <tr style=\"text-align: right;\">\n",
       "      <th></th>\n",
       "      <th>first_name</th>\n",
       "      <th>last_name</th>\n",
       "      <th>email</th>\n",
       "      <th>Phone</th>\n",
       "      <th>Adress</th>\n",
       "      <th>full_name</th>\n",
       "      <th>check_name</th>\n",
       "    </tr>\n",
       "  </thead>\n",
       "  <tbody>\n",
       "    <tr>\n",
       "      <th>0</th>\n",
       "      <td>Sarah</td>\n",
       "      <td>Reyes</td>\n",
       "      <td>sreyes0@ed.gov</td>\n",
       "      <td>86-(204)143-1479</td>\n",
       "      <td>7 Darwin Park</td>\n",
       "      <td>Sarah Reyes</td>\n",
       "      <td>0</td>\n",
       "    </tr>\n",
       "    <tr>\n",
       "      <th>1</th>\n",
       "      <td>Catherine</td>\n",
       "      <td>Garrett</td>\n",
       "      <td>cgarrett1@google.com.br</td>\n",
       "      <td>48-(485)685-3252</td>\n",
       "      <td>53868 Surrey Road</td>\n",
       "      <td>Catherine Garrett</td>\n",
       "      <td>0</td>\n",
       "    </tr>\n",
       "  </tbody>\n",
       "</table>\n",
       "</div>"
      ],
      "text/plain": [
       "  first_name last_name                    email             Phone  \\\n",
       "0      Sarah     Reyes           sreyes0@ed.gov  86-(204)143-1479   \n",
       "1  Catherine   Garrett  cgarrett1@google.com.br  48-(485)685-3252   \n",
       "\n",
       "              Adress          full_name  check_name  \n",
       "0      7 Darwin Park        Sarah Reyes           0  \n",
       "1  53868 Surrey Road  Catherine Garrett           0  "
      ]
     },
     "execution_count": 37,
     "metadata": {},
     "output_type": "execute_result"
    }
   ],
   "source": [
    "df1.head(2)"
   ]
  },
  {
   "cell_type": "code",
   "execution_count": 30,
   "metadata": {
    "collapsed": false
   },
   "outputs": [
    {
     "data": {
      "text/plain": [
       "u'Sarah Reyes'"
      ]
     },
     "execution_count": 30,
     "metadata": {},
     "output_type": "execute_result"
    }
   ],
   "source": [
    "row['full_name']"
   ]
  },
  {
   "cell_type": "code",
   "execution_count": null,
   "metadata": {
    "collapsed": true
   },
   "outputs": [],
   "source": []
  },
  {
   "cell_type": "code",
   "execution_count": null,
   "metadata": {
    "collapsed": true
   },
   "outputs": [],
   "source": []
  }
 ],
 "metadata": {
  "anaconda-cloud": {},
  "kernelspec": {
   "display_name": "Python [Root]",
   "language": "python",
   "name": "Python [Root]"
  },
  "language_info": {
   "codemirror_mode": {
    "name": "ipython",
    "version": 2
   },
   "file_extension": ".py",
   "mimetype": "text/x-python",
   "name": "python",
   "nbconvert_exporter": "python",
   "pygments_lexer": "ipython2",
   "version": "2.7.12"
  }
 },
 "nbformat": 4,
 "nbformat_minor": 0
}
