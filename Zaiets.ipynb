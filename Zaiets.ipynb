{
 "cells": [
  {
   "cell_type": "code",
   "execution_count": 3,
   "metadata": {
    "collapsed": false
   },
   "outputs": [
    {
     "ename": "ImportError",
     "evalue": "No module named fuzzywuzzy",
     "output_type": "error",
     "traceback": [
      "\u001b[1;31m---------------------------------------------------------------------------\u001b[0m",
      "\u001b[1;31mImportError\u001b[0m                               Traceback (most recent call last)",
      "\u001b[1;32m<ipython-input-3-5ca290118dd0>\u001b[0m in \u001b[0;36m<module>\u001b[1;34m()\u001b[0m\n\u001b[0;32m      3\u001b[0m \u001b[1;32mimport\u001b[0m \u001b[0mpandas\u001b[0m \u001b[1;32mas\u001b[0m \u001b[0mpd\u001b[0m\u001b[1;33m\u001b[0m\u001b[0m\n\u001b[0;32m      4\u001b[0m \u001b[1;32mimport\u001b[0m \u001b[0mnumpy\u001b[0m \u001b[1;32mas\u001b[0m \u001b[0mnp\u001b[0m\u001b[1;33m\u001b[0m\u001b[0m\n\u001b[1;32m----> 5\u001b[1;33m \u001b[1;32mfrom\u001b[0m \u001b[0mfuzzywuzzy\u001b[0m \u001b[1;32mimport\u001b[0m \u001b[0mfuzz\u001b[0m\u001b[1;33m\u001b[0m\u001b[0m\n\u001b[0m\u001b[0;32m      6\u001b[0m \u001b[1;32mfrom\u001b[0m \u001b[0mfuzzywuzzy\u001b[0m \u001b[1;32mimport\u001b[0m \u001b[0mprocess\u001b[0m\u001b[1;33m\u001b[0m\u001b[0m\n",
      "\u001b[1;31mImportError\u001b[0m: No module named fuzzywuzzy"
     ]
    }
   ],
   "source": [
    "# советую просто установить Anaconda (https://www.continuum.io/downloads)\n",
    "# импортируем необходимые зависимости\n",
    "import pandas as pd\n",
    "import numpy as np\n",
    "from fuzzywuzzy import fuzz\n",
    "from fuzzywuzzy import process"
   ]
  },
  {
   "cell_type": "code",
   "execution_count": 53,
   "metadata": {
    "collapsed": true
   },
   "outputs": [],
   "source": [
    "x = 'Jo uif dbspm, \"Kjohmf Cfmmt,\" xibu ljoe pg b tmfjhi jt nfoujpofe?'"
   ]
  },
  {
   "cell_type": "code",
   "execution_count": 2,
   "metadata": {
    "collapsed": false
   },
   "outputs": [
    {
     "data": {
      "text/plain": [
       "69"
      ]
     },
     "execution_count": 2,
     "metadata": {},
     "output_type": "execute_result"
    }
   ],
   "source": [
    "len(x)"
   ]
  },
  {
   "cell_type": "code",
   "execution_count": 38,
   "metadata": {
    "collapsed": false
   },
   "outputs": [
    {
     "name": "stdout",
     "output_type": "stream",
     "text": [
      "Jo uif dbspm, “Kjohmf Cfmmt,” xibu ljoe pg b tmfjhi jt nfoujpofe?\n",
      "hmlsgdlbzqnkxlxdfihmfkdladkkrxxdglvgzsljhmclnelzlrkdhfglhrlldmshnmdcq\n"
     ]
    }
   ],
   "source": [
    "my_string  = \"zebra\"\n",
    "difference = -2\n",
    "\n",
    "new_string = ''.join((chr(97+(ord(letter)-97+difference) % 26) if (letter != ' ' or letter != ',') else letter for letter in x.lower()))\n",
    "print x\n",
    "print new_string"
   ]
  },
  {
   "cell_type": "code",
   "execution_count": 58,
   "metadata": {
    "collapsed": false
   },
   "outputs": [
    {
     "data": {
      "text/plain": [
       "'in the caroly \"jingle bellsy\" what kind of a sleigh is mentioned?'"
      ]
     },
     "execution_count": 58,
     "metadata": {},
     "output_type": "execute_result"
    }
   ],
   "source": [
    "difference = -1\n",
    "''.join([chr(97+(ord(letter)-97+difference) % 26) if not (letter == ' ' or letter == '' or letter == '?' or letter == '\"')\\\n",
    "         else letter for letter in x.lower()])\n",
    "    "
   ]
  },
  {
   "cell_type": "code",
   "execution_count": null,
   "metadata": {
    "collapsed": true
   },
   "outputs": [],
   "source": [
    "    In the carol, ”Jingle Bells,” what kind of a sleigh is mentioned?"
   ]
  },
  {
   "cell_type": "code",
   "execution_count": 50,
   "metadata": {
    "collapsed": false
   },
   "outputs": [
    {
     "name": "stdout",
     "output_type": "stream",
     "text": [
      "”\n"
     ]
    }
   ],
   "source": [
    "print '”'"
   ]
  },
  {
   "cell_type": "code",
   "execution_count": null,
   "metadata": {
    "collapsed": true
   },
   "outputs": [],
   "source": [
    "def fuzzyCheck(row):\n",
    "    global c\n",
    "    text = row[0]\n",
    "    if pd.isnull(text):\n",
    "        return [0 for _ in range(len(df2))]\n",
    "    if c%100 == 0:\n",
    "        print c\n",
    "    c = c + 1\n",
    "    return [fuzz.ratio(text, row['full_name']) if not pd.isnull(row['full_name']) else 0 for index, row in df2.iterrows()]\n",
    "def getMeanValue(row):\n",
    "    return np.mean(np.array([x for x in row]), axis=0).tolist()\n",
    "def getMaxIndexes(row):\n",
    "    # даже не спрашивай, я ебу почему оно не хочет отдавать массивы -_-\n",
    "    return ' '.join([str(x) for x in np.argwhere(row[0] == np.amax(row[0]))])\n",
    "def getMaxValues(row):\n",
    "    sorting = np.sort(row[0])\n",
    "    # даже не спрашивай, я ебу почему оно не хочет отдавать массивы -_-\n",
    "    return ' '.join([str(x) for x in sorting[-2::]])"
   ]
  },
  {
   "cell_type": "code",
   "execution_count": null,
   "metadata": {
    "collapsed": true
   },
   "outputs": [],
   "source": [
    "# используем fuzzywuzzy для каждого элемента, а после сохраняем как массив.\n",
    "# %time - замеряет к-во времени потраченого на операцию(функцию)\n",
    "c = 0\n",
    "%time df1['check_name'] = df1[['full_name']].apply(fuzzyCheck, axis=1)"
   ]
  },
  {
   "cell_type": "code",
   "execution_count": null,
   "metadata": {
    "collapsed": true
   },
   "outputs": [],
   "source": [
    "# тут просто рандомная вторая \"оценка\", всё же просто показывает что да как\n",
    "df1['check_level2'] = ''\n",
    "df1['check_level2'] = df1['check_level2'].apply(lambda x: [10 for _ in range(len(df2))])"
   ]
  },
  {
   "cell_type": "code",
   "execution_count": null,
   "metadata": {
    "collapsed": true
   },
   "outputs": [],
   "source": [
    "# calculating mean value\n",
    "df1['Mean_Rate'] = df1[['check_name', 'check_level2']].apply(getMeanValue, axis=1)"
   ]
  },
  {
   "cell_type": "code",
   "execution_count": null,
   "metadata": {
    "collapsed": true
   },
   "outputs": [],
   "source": [
    "# max value indexes\n",
    "df1['Best_Match_Index'] = df1[['Mean_Rate']].apply(getMaxIndexes, axis=1).apply(lambda x: x.split()) #да, как-то не очень\n",
    "# max value - спецом добавил таким способом, чтобы в случае чего можно было не только топовое значение получать.\n",
    "df1['Best_Match_Value'] = df1[['Mean_Rate']].apply(getMaxValues, axis=1).apply(lambda x: x.split())"
   ]
  },
  {
   "cell_type": "code",
   "execution_count": null,
   "metadata": {
    "collapsed": true
   },
   "outputs": [],
   "source": [
    "# отображение того, что вышло\n",
    "df1.head(2)"
   ]
  },
  {
   "cell_type": "markdown",
   "metadata": {},
   "source": [
    "## Part 2"
   ]
  },
  {
   "cell_type": "code",
   "execution_count": 175,
   "metadata": {
    "collapsed": true
   },
   "outputs": [],
   "source": [
    "import matplotlib\n",
    "import numpy as np\n",
    "import matplotlib.pyplot as plt\n",
    "import gmplot\n",
    "from IPython.core.display import display\n",
    "from IPython.lib.display import IFrame\n",
    "import os \n",
    "%matplotlib inline \n",
    "def draw(saveData):\n",
    "    fileName = 'test.html'\n",
    "    saveData.draw(fileName)\n",
    "    # проблема в правах доступа и маркер не подтягивает(он находится в папке с библиотекой, а Chrome не дает к нему доступ)\n",
    "    data = []\n",
    "    with open(fileName, 'r') as f:\n",
    "        data = f.read().replace(\"icon: img,\", 'icon: \"\",')\n",
    "    os.remove(fileN)\n",
    "        \n",
    "        display(IFrame(HTML(data), height = 500, width = \"90%\"))\n",
    "    "
   ]
  },
  {
   "cell_type": "code",
   "execution_count": 176,
   "metadata": {
    "collapsed": true
   },
   "outputs": [],
   "source": [
    "x = [\"59.8720551,10.7900333\",\"59.8720551,10.7913208\",\"59.8722267,10.7918358\",\"59.87257,10.7921791\",\"59.8729134,10.7932091\",\"59.8732567,10.7935524\",\"59.8734283,10.7940674\",\"59.8734283,10.794754\",\"59.8736,10.795269\",\"59.8742867,10.7959557\",\"59.87463,10.7959557\",\"59.8749733,10.7956123\",\"59.8754883,10.7954407\",\"59.8761749,10.7954407\",\"59.8766899,10.7956123\",\"59.8773766,10.796299\",\"59.8775482,10.796814\",\"59.8775482,10.7975006\",\"59.8777199,10.7980156\",\"59.8780632,10.7980156\",\"59.8782349,10.7975006\",\"59.8782349,10.7961273\",\"59.8784065,10.7956123\",\"59.8797798,10.794239\",\"59.8801231,10.794239\",\"59.8814964,10.7956123\",\"59.8816681,10.7961273\",\"59.8816681,10.7975006\",\"59.8818398,10.7980156\",\"59.8821831,10.7983589\",\"59.8823547,10.7988739\",\"59.8823547,10.7995605\",\"59.8825264,10.8000755\",\"59.8835564,10.8004189\",\"59.8838997,10.8007622\",\"59.8844147,10.8009338\",\"59.8849297,10.8007622\",\"59.8859596,10.7997322\",\"59.8864746,10.7995605\",\"59.8871613,10.7995605\",\"59.8876762,10.7997322\",\"59.8880196,10.8007622\",\"59.8883629,10.8011055\",\"59.8885345,10.8016205\",\"59.8885345,10.8023071\",\"59.8887062,10.8028221\",\"59.8890495,10.8028221\",\"59.8893929,10.8024788\",\"59.8904228,10.8021355\",\"59.8907661,10.8017921\",\"59.8912811,10.8016205\",\"59.8919678,10.8016205\",\"59.8924828,10.8014488\",\"59.8928261,10.8011055\",\"59.8933411,10.8009338\",\"59.893856,10.8011055\",\"59.8941994,10.8014488\",\"59.8947144,10.8016205\",\"59.895401,10.8016205\",\"59.895916,10.8017921\",\"59.8966026,10.8024788\",\"59.8967743,10.8029938\",\"59.8967743,10.8050537\",\"59.896946,10.8055687\",\"59.8972893,10.805912\",\"59.8974609,10.806427\",\"59.8974609,10.8078003\",\"59.8976326,10.8083153\",\"59.8979759,10.8086586\",\"59.8983192,10.8096886\",\"59.8986626,10.8100319\",\"59.8990059,10.8110619\",\"59.8993492,10.8114052\",\"59.8995209,10.8119202\",\"59.8995209,10.8139801\",\"59.8993492,10.8144951\",\"59.8990059,10.8148384\",\"59.8986626,10.8158684\",\"59.8981476,10.81604\",\"59.8974609,10.81604\",\"59.896946,10.8158684\",\"59.8966026,10.8148384\",\"59.8962593,10.8144951\",\"59.895916,10.8134651\",\"59.8955727,10.8131218\",\"59.8952293,10.8120918\",\"59.894886,10.8117485\",\"59.8947144,10.8112335\",\"59.8947144,10.8098602\",\"59.8945427,10.8093452\",\"59.8940277,10.8091736\",\"59.8935127,10.8093452\",\"59.8928261,10.8100319\",\"59.8926544,10.8105469\",\"59.8926544,10.8112335\",\"59.8924828,10.8117485\",\"59.8921394,10.8120918\",\"59.8917961,10.8131218\",\"59.8912811,10.8132935\",\"59.8905945,10.8132935\",\"59.8900795,10.8134651\",\"59.8890495,10.8144951\",\"59.8885345,10.8146667\",\"59.8878479,10.8146667\",\"59.8873329,10.8144951\",\"59.8869896,10.8134651\",\"59.8866463,10.8134651\",\"59.8863029,10.8144951\",\"59.8859596,10.8148384\",\"59.885788,10.8153534\",\"59.885788,10.81604\",\"59.8859596,10.816555\",\"59.8863029,10.8168983\",\"59.8864746,10.8174133\",\"59.8864746,10.8194733\",\"59.8863029,10.8199883\",\"59.8859596,10.8203316\",\"59.885788,10.8208466\",\"59.885788,10.8229065\",\"59.8856163,10.8234215\",\"59.885273,10.8237648\",\"59.8851013,10.8242798\",\"59.8851013,10.8249664\",\"59.8849297,10.8254814\",\"59.8845863,10.8258247\",\"59.884243,10.8268547\",\"59.883213,10.8278847\",\"59.8830414,10.8283997\",\"59.8830414,10.8290863\",\"59.8828697,10.8296013\",\"59.8825264,10.8299446\",\"59.8823547,10.8304596\",\"59.8825264,10.8309746\",\"59.8845863,10.8330345\",\"59.8851013,10.8332062\",\"59.8856163,10.8330345\",\"59.8859596,10.8326912\",\"59.8864746,10.8325195\",\"59.8885345,10.8325195\",\"59.8890495,10.8323479\",\"59.8893929,10.8320045\",\"59.8899078,10.8318329\",\"59.8905945,10.8318329\",\"59.8911095,10.8320045\",\"59.8914528,10.8330345\",\"59.8917961,10.8333778\",\"59.8919678,10.8338928\",\"59.8919678,10.8345795\",\"59.8917961,10.8350945\",\"59.8914528,10.8354378\",\"59.8912811,10.8359528\",\"59.8912811,10.8366394\",\"59.8911095,10.8371544\",\"59.8900795,10.8381844\",\"59.8897362,10.8392143\",\"59.8890495,10.839901\",\"59.8885345,10.8400726\",\"59.8880196,10.839901\",\"59.8869896,10.838871\",\"59.8864746,10.8386993\",\"59.885788,10.8386993\",\"59.885273,10.838871\",\"59.8845863,10.8395576\",\"59.884243,10.8405876\",\"59.883213,10.8409309\",\"59.8830414,10.8414459\",\"59.8830414,10.8421326\",\"59.8828697,10.8426476\",\"59.8818398,10.8429909\",\"59.8814964,10.8433342\",\"59.8809814,10.8435059\",\"59.8796082,10.8435059\",\"59.8790932,10.8433342\",\"59.8784065,10.8426476\",\"59.8782349,10.8421326\",\"59.8782349,10.8366394\",\"59.8784065,10.8361244\",\"59.8790932,10.8354378\",\"59.8801231,10.8350945\",\"59.8801231,10.8347511\",\"59.8797798,10.8344078\",\"59.8796082,10.8338928\",\"59.8796082,10.8332062\",\"59.8794365,10.8326912\",\"59.8790932,10.8326912\",\"59.8784065,10.8333778\",\"59.8780632,10.8344078\",\"59.8775482,10.8345795\",\"59.8768616,10.8345795\",\"59.8763466,10.8344078\",\"59.8756599,10.8337212\",\"59.8754883,10.8332062\",\"59.8754883,10.8325195\",\"59.8753166,10.8320045\",\"59.8749733,10.8320045\",\"59.8748016,10.8325195\",\"59.8748016,10.8345795\",\"59.87463,10.8350945\",\"59.8742867,10.8354378\",\"59.8739433,10.8364677\",\"59.8734283,10.8366394\",\"59.8727417,10.8366394\",\"59.8722267,10.8364677\",\"59.8718834,10.8361244\",\"59.8715401,10.8361244\",\"59.8708534,10.8368111\",\"59.8706818,10.837326\",\"59.8706818,10.8380127\",\"59.8705101,10.8385277\",\"59.8699951,10.8386993\",\"59.8693085,10.8386993\",\"59.8687935,10.8385277\",\"59.8681068,10.837841\",\"59.8679352,10.837326\",\"59.8679352,10.8345795\",\"59.8677635,10.8338928\",\"59.8672485,10.8333778\",\"59.8665619,10.8332062\",\"59.8658752,10.8332062\",\"59.8653603,10.8333778\",\"59.8633003,10.8354378\",\"59.8631287,10.8359528\",\"59.8631287,10.837326\",\"59.862957,10.837841\",\"59.862442,10.8380127\",\"59.8610687,10.8380127\",\"59.8605537,10.837841\",\"59.8603821,10.837326\",\"59.8603821,10.8345795\",\"59.8602104,10.8340645\",\"59.8596954,10.8338928\",\"59.8590088,10.8338928\",\"59.8584938,10.8340645\",\"59.8581505,10.8344078\",\"59.8571205,10.8347511\",\"59.8567772,10.8350945\",\"59.8557472,10.8354378\",\"59.8554039,10.8357811\",\"59.8543739,10.8361244\",\"59.8540306,10.8364677\",\"59.8530006,10.8368111\",\"59.8526573,10.8371544\",\"59.8516273,10.8374977\",\"59.8505974,10.8385277\",\"59.8495674,10.838871\",\"59.8492241,10.8392143\",\"59.8487091,10.839386\",\"59.8481941,10.8392143\",\"59.8475075,10.8385277\",\"59.8473358,10.8380127\",\"59.8473358,10.8345795\",\"59.8475075,10.8340645\",\"59.8485374,10.8330345\",\"59.8487091,10.8325195\",\"59.8487091,10.8290863\",\"59.8488808,10.8285713\",\"59.8493958,10.8283997\",\"59.8500824,10.8283997\",\"59.8505974,10.8285713\",\"59.851284,10.829258\",\"59.8514557,10.8297729\",\"59.8514557,10.8304596\",\"59.8516273,10.8309746\",\"59.8521423,10.8311462\",\"59.8526573,10.8309746\",\"59.8530006,10.8306313\",\"59.8540306,10.8302879\",\"59.8543739,10.8299446\",\"59.8554039,10.8296013\",\"59.8557472,10.829258\",\"59.8567772,10.8289146\",\"59.8571205,10.8285713\",\"59.8576355,10.8283997\",\"59.8583221,10.8283997\",\"59.8588371,10.828228\",\"59.8590088,10.827713\",\"59.8590088,10.8263397\",\"59.8591805,10.8258247\",\"59.8602104,10.8247948\",\"59.8603821,10.8242798\",\"59.8603821,10.8229065\",\"59.8602104,10.8223915\",\"59.8598671,10.8220482\",\"59.8596954,10.8215332\",\"59.8596954,10.8208466\",\"59.8595238,10.8203316\",\"59.8591805,10.8199883\",\"59.8590088,10.8194733\",\"59.8591805,10.8189583\",\"59.8595238,10.818615\",\"59.8596954,10.8181\",\"59.8596954,10.8174133\",\"59.8595238,10.8168983\",\"59.8591805,10.816555\",\"59.8590088,10.81604\",\"59.8590088,10.8119202\",\"59.8591805,10.8114052\",\"59.8598671,10.8107185\",\"59.8603821,10.8105469\",\"59.8608971,10.8107185\",\"59.8615837,10.8114052\",\"59.861927,10.8124352\",\"59.8622704,10.8124352\",\"59.862442,10.8119202\",\"59.862442,10.8078003\",\"59.8626137,10.8072853\",\"59.8636436,10.8062553\",\"59.8638153,10.8057404\",\"59.8638153,10.8036804\",\"59.863987,10.8031654\",\"59.8646736,10.8024788\",\"59.8657036,10.8021355\",\"59.8660469,10.8011055\",\"59.8670769,10.8000755\",\"59.8672485,10.7995605\",\"59.8672485,10.796814\",\"59.8674202,10.796299\",\"59.8677635,10.7959557\",\"59.8681068,10.7949257\",\"59.8691368,10.7945824\",\"59.8693085,10.7940674\",\"59.8693085,10.7899475\",\"59.8694801,10.7894325\",\"59.8699951,10.7892609\",\"59.8713684,10.7892609\",\"59.8718834,10.7893467\",\"59.8720551,10.7896042\",\"59.8720551,10.7900333\"]\n",
    "lat = []\n",
    "lon = []\n",
    "for i in x:\n",
    "    qq = i.split(',')\n",
    "    lat.append(float(qq[0]))\n",
    "    lon.append(float(qq[1]))"
   ]
  },
  {
   "cell_type": "code",
   "execution_count": 177,
   "metadata": {
    "collapsed": false
   },
   "outputs": [],
   "source": [
    "latitudes = 59.87349399999999\n",
    "longitudes = 10.8140581\n",
    "\n",
    "gmap = gmplot.GoogleMapPlotter(latitudes, longitudes, 9)\n",
    "\n",
    "gmap.marker(latitudes, longitudes)\n",
    "gmap.plot(lat, lon, 'cornflowerblue', edge_width=10)\n",
    "#gmap.scatter(more_lats, more_lngs, '#3B0B39', size=40, marker=False)\n",
    "#gmap.scatter(marker_lats, marker_lngs, 'k', marker=True)\n",
    "#gmap.heatmap(heat_lats, heat_lngs)"
   ]
  },
  {
   "cell_type": "code",
   "execution_count": 178,
   "metadata": {
    "collapsed": false
   },
   "outputs": [
    {
     "ename": "TypeError",
     "evalue": "coercing to Unicode: need string or buffer, instance found",
     "output_type": "error",
     "traceback": [
      "\u001b[1;31m---------------------------------------------------------------------------\u001b[0m",
      "\u001b[1;31mTypeError\u001b[0m                                 Traceback (most recent call last)",
      "\u001b[1;32m<ipython-input-178-14647478fa61>\u001b[0m in \u001b[0;36m<module>\u001b[1;34m()\u001b[0m\n\u001b[1;32m----> 1\u001b[1;33m \u001b[0mdraw\u001b[0m\u001b[1;33m(\u001b[0m\u001b[0mgmap\u001b[0m\u001b[1;33m)\u001b[0m\u001b[1;33m\u001b[0m\u001b[0m\n\u001b[0m",
      "\u001b[1;32m<ipython-input-175-7af6f07ea7ac>\u001b[0m in \u001b[0;36mdraw\u001b[1;34m(saveData)\u001b[0m\n\u001b[0;32m     12\u001b[0m     \u001b[1;31m# проблема в правах доступа и маркер не подтягивает(он находится в папке с библиотекой, а Chrome не дает к нему доступ)\u001b[0m\u001b[1;33m\u001b[0m\u001b[1;33m\u001b[0m\u001b[0m\n\u001b[0;32m     13\u001b[0m     \u001b[1;32mwith\u001b[0m \u001b[0mtempfile\u001b[0m\u001b[1;33m.\u001b[0m\u001b[0mTemporaryFile\u001b[0m\u001b[1;33m(\u001b[0m\u001b[1;33m)\u001b[0m \u001b[1;32mas\u001b[0m \u001b[0mtemp\u001b[0m\u001b[1;33m:\u001b[0m\u001b[1;33m\u001b[0m\u001b[0m\n\u001b[1;32m---> 14\u001b[1;33m         \u001b[0msaveData\u001b[0m\u001b[1;33m.\u001b[0m\u001b[0mdraw\u001b[0m\u001b[1;33m(\u001b[0m\u001b[0mtemp\u001b[0m\u001b[1;33m)\u001b[0m\u001b[1;33m\u001b[0m\u001b[0m\n\u001b[0m",
      "\u001b[1;32mC:\\Users\\yaroslavst\\AppData\\Local\\Continuum\\Anaconda2\\lib\\site-packages\\gmplot\\gmplot.pyc\u001b[0m in \u001b[0;36mdraw\u001b[1;34m(self, htmlfile)\u001b[0m\n\u001b[0;32m    172\u001b[0m     \u001b[1;31m# paths\u001b[0m\u001b[1;33m\u001b[0m\u001b[1;33m\u001b[0m\u001b[0m\n\u001b[0;32m    173\u001b[0m     \u001b[1;32mdef\u001b[0m \u001b[0mdraw\u001b[0m\u001b[1;33m(\u001b[0m\u001b[0mself\u001b[0m\u001b[1;33m,\u001b[0m \u001b[0mhtmlfile\u001b[0m\u001b[1;33m)\u001b[0m\u001b[1;33m:\u001b[0m\u001b[1;33m\u001b[0m\u001b[0m\n\u001b[1;32m--> 174\u001b[1;33m         \u001b[0mf\u001b[0m \u001b[1;33m=\u001b[0m \u001b[0mopen\u001b[0m\u001b[1;33m(\u001b[0m\u001b[0mhtmlfile\u001b[0m\u001b[1;33m,\u001b[0m \u001b[1;34m'w'\u001b[0m\u001b[1;33m)\u001b[0m\u001b[1;33m\u001b[0m\u001b[0m\n\u001b[0m\u001b[0;32m    175\u001b[0m         \u001b[0mf\u001b[0m\u001b[1;33m.\u001b[0m\u001b[0mwrite\u001b[0m\u001b[1;33m(\u001b[0m\u001b[1;34m'<html>\\n'\u001b[0m\u001b[1;33m)\u001b[0m\u001b[1;33m\u001b[0m\u001b[0m\n\u001b[0;32m    176\u001b[0m         \u001b[0mf\u001b[0m\u001b[1;33m.\u001b[0m\u001b[0mwrite\u001b[0m\u001b[1;33m(\u001b[0m\u001b[1;34m'<head>\\n'\u001b[0m\u001b[1;33m)\u001b[0m\u001b[1;33m\u001b[0m\u001b[0m\n",
      "\u001b[1;31mTypeError\u001b[0m: coercing to Unicode: need string or buffer, instance found"
     ]
    }
   ],
   "source": [
    "draw(gmap)"
   ]
  },
  {
   "cell_type": "code",
   "execution_count": 35,
   "metadata": {
    "collapsed": false
   },
   "outputs": [
    {
     "name": "stdout",
     "output_type": "stream",
     "text": [
      "x\n",
      " y \n",
      " z\n"
     ]
    }
   ],
   "source": [
    "print 'x\\n y \\n z'"
   ]
  },
  {
   "cell_type": "code",
   "execution_count": 30,
   "metadata": {
    "collapsed": false
   },
   "outputs": [
    {
     "data": {
      "text/html": [
       "<html>\n",
       "<head>\n",
       "<meta name=\"viewport\" content=\"initial-scale=1.0, user-scalable=no\" />\n",
       "<meta http-equiv=\"content-type\" content=\"text/html; charset=UTF-8\"/>\n",
       "<title>Google Maps - pygmaps </title>\n",
       "<script type=\"text/javascript\" src=\"https://maps.googleapis.com/maps/api/js?libraries=visualization&sensor=true_or_false\"></script>\n",
       "<script type=\"text/javascript\">\n",
       "\tfunction initialize() {\n",
       "\t\tvar centerlatlng = new google.maps.LatLng(37.428000, -122.145000);\n",
       "\t\tvar myOptions = {\n",
       "\t\t\tzoom: 16,\n",
       "\t\t\tcenter: centerlatlng,\n",
       "\t\t\tmapTypeId: google.maps.MapTypeId.ROADMAP\n",
       "\t\t};\n",
       "\t\tvar map = new google.maps.Map(document.getElementById(\"map_canvas\"), myOptions);\n",
       "\n",
       "var PolylineCoordinates = [\n",
       "new google.maps.LatLng(59.873494, 10.814058),\n",
       "];\n",
       "\n",
       "var Path = new google.maps.Polyline({\n",
       "clickable: false,\n",
       "geodesic: true,\n",
       "path: PolylineCoordinates,\n",
       "strokeColor: \"#6495ED\",\n",
       "strokeOpacity: 1.000000,\n",
       "strokeWeight: 10\n",
       "});\n",
       "\n",
       "Path.setMap(map);\n",
       "\n",
       "\n",
       "\t}\n",
       "</script>\n",
       "</head>\n",
       "<body style=\"margin:0px; padding:0px;\" onload=\"initialize()\">\n",
       "\t<div id=\"map_canvas\" style=\"width: 100%; height: 100%;\"></div>\n",
       "    <div>QQ</div>\n",
       "</body>\n",
       "</html>\n"
      ],
      "text/plain": [
       "<IPython.core.display.HTML object>"
      ]
     },
     "metadata": {},
     "output_type": "display_data"
    }
   ],
   "source": [
    "display(HTML(\"\"\"<html>\n",
    "<head>\n",
    "<meta name=\"viewport\" content=\"initial-scale=1.0, user-scalable=no\" />\n",
    "<meta http-equiv=\"content-type\" content=\"text/html; charset=UTF-8\"/>\n",
    "<title>Google Maps - pygmaps </title>\n",
    "<script type=\"text/javascript\" src=\"https://maps.googleapis.com/maps/api/js?libraries=visualization&sensor=true_or_false\"></script>\n",
    "<script type=\"text/javascript\">\n",
    "\tfunction initialize() {\n",
    "\t\tvar centerlatlng = new google.maps.LatLng(37.428000, -122.145000);\n",
    "\t\tvar myOptions = {\n",
    "\t\t\tzoom: 16,\n",
    "\t\t\tcenter: centerlatlng,\n",
    "\t\t\tmapTypeId: google.maps.MapTypeId.ROADMAP\n",
    "\t\t};\n",
    "\t\tvar map = new google.maps.Map(document.getElementById(\"map_canvas\"), myOptions);\n",
    "\n",
    "var PolylineCoordinates = [\n",
    "new google.maps.LatLng(59.873494, 10.814058),\n",
    "];\n",
    "\n",
    "var Path = new google.maps.Polyline({\n",
    "clickable: false,\n",
    "geodesic: true,\n",
    "path: PolylineCoordinates,\n",
    "strokeColor: \"#6495ED\",\n",
    "strokeOpacity: 1.000000,\n",
    "strokeWeight: 10\n",
    "});\n",
    "\n",
    "Path.setMap(map);\n",
    "\n",
    "\n",
    "\t}\n",
    "</script>\n",
    "</head>\n",
    "<body style=\"margin:0px; padding:0px;\" onload=\"initialize()\">\n",
    "\t<div id=\"map_canvas\" style=\"width: 100%; height: 100%;\"></div>\n",
    "    <div>QQ</div>\n",
    "</body>\n",
    "</html>\n",
    "\"\"\"))"
   ]
  },
  {
   "cell_type": "code",
   "execution_count": 14,
   "metadata": {
    "collapsed": false
   },
   "outputs": [],
   "source": [
    "result"
   ]
  },
  {
   "cell_type": "code",
   "execution_count": null,
   "metadata": {
    "collapsed": true
   },
   "outputs": [],
   "source": []
  }
 ],
 "metadata": {
  "anaconda-cloud": {},
  "kernelspec": {
   "display_name": "Python 2",
   "language": "python",
   "name": "python2"
  },
  "language_info": {
   "codemirror_mode": {
    "name": "ipython",
    "version": 2
   },
   "file_extension": ".py",
   "mimetype": "text/x-python",
   "name": "python",
   "nbconvert_exporter": "python",
   "pygments_lexer": "ipython2",
   "version": "2.7.12"
  }
 },
 "nbformat": 4,
 "nbformat_minor": 0
}
