{
 "cells": [
  {
   "cell_type": "code",
   "execution_count": null,
   "metadata": {
    "collapsed": true
   },
   "outputs": [],
   "source": [
    "# советую просто установить Anaconda (https://www.continuum.io/downloads)\n",
    "# импортируем необходимые зависимости\n",
    "import pandas as pd\n",
    "import numpy as np\n",
    "from fuzzywuzzy import fuzz\n",
    "from fuzzywuzzy import process"
   ]
  },
  {
   "cell_type": "code",
   "execution_count": null,
   "metadata": {
    "collapsed": true
   },
   "outputs": [],
   "source": [
    "c = 0\n",
    "def fuzzyCheck(row):\n",
    "    global c\n",
    "    text = row[0]\n",
    "    if pd.isnull(text):\n",
    "        return [0 for _ in range(len(df2))]\n",
    "    if c%100 == 0:\n",
    "        print c\n",
    "    c = c + 1\n",
    "    return [fuzz.ratio(text, row['full_name']) if not pd.isnull(row['full_name']) else 0 for index, row in df2.iterrows()]\n",
    "def getMeanValue(row):\n",
    "    return np.mean(np.array([x for x in row]), axis=0).tolist()\n",
    "def getMaxIndexes(row):\n",
    "    # даже не спрашивай, я ебу почему оно не хочет отдавать массивы -_-\n",
    "    return ' '.join([str(x) for x in np.argwhere(row[0] == np.amax(row[0]))])\n",
    "def getMaxValues(row):\n",
    "    sorting = np.sort(row[0])\n",
    "    # даже не спрашивай, я ебу почему оно не хочет отдавать массивы -_-\n",
    "    return ' '.join([str(x) for x in sorting[-2::]])"
   ]
  },
  {
   "cell_type": "code",
   "execution_count": null,
   "metadata": {
    "collapsed": true
   },
   "outputs": [],
   "source": [
    "# используем fuzzywuzzy для каждого элемента, а после сохраняем как массив.\n",
    "# %time - замеряет к-во времени потраченого на операцию(функцию)\n",
    "%time df1['check_name'] = df1[['full_name']].apply(fuzzyCheck, axis=1)"
   ]
  },
  {
   "cell_type": "code",
   "execution_count": null,
   "metadata": {
    "collapsed": true
   },
   "outputs": [],
   "source": [
    "# тут просто рандомная вторая \"оценка\", всё же просто показывает что да как\n",
    "df1['check_level2'] = ''\n",
    "df1['check_level2'] = df1['check_level2'].apply(lambda x: [10 for _ in range(len(df2))])"
   ]
  },
  {
   "cell_type": "code",
   "execution_count": null,
   "metadata": {
    "collapsed": true
   },
   "outputs": [],
   "source": [
    "# calculating mean value\n",
    "df1['Mean_Rate'] = df1[['check_name', 'check_level2']].apply(getMeanValue, axis=1)"
   ]
  },
  {
   "cell_type": "code",
   "execution_count": null,
   "metadata": {
    "collapsed": true
   },
   "outputs": [],
   "source": [
    "# max value indexes\n",
    "df1['Best_Match_Index'] = df1[['Mean_Rate']].apply(getMaxIndexes, axis=1).apply(lambda x: x.split()) #да, как-то не очень\n",
    "# max value - спецом добавил таким способом, чтобы в случае чего можно было не только топовое значение получать.\n",
    "df1['Best_Match_Value'] = df1[['Mean_Rate']].apply(getMaxValues, axis=1).apply(lambda x: x.split())"
   ]
  },
  {
   "cell_type": "code",
   "execution_count": null,
   "metadata": {
    "collapsed": true
   },
   "outputs": [],
   "source": [
    "# отображение того, что вышло\n",
    "df1.head(2)"
   ]
  }
 ],
 "metadata": {
  "anaconda-cloud": {},
  "kernelspec": {
   "display_name": "Python [Root]",
   "language": "python",
   "name": "Python [Root]"
  },
  "language_info": {
   "codemirror_mode": {
    "name": "ipython",
    "version": 2
   },
   "file_extension": ".py",
   "mimetype": "text/x-python",
   "name": "python",
   "nbconvert_exporter": "python",
   "pygments_lexer": "ipython2",
   "version": "2.7.12"
  }
 },
 "nbformat": 4,
 "nbformat_minor": 0
}
